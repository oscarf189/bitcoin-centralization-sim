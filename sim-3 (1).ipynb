{
 "cells": [
  {
   "cell_type": "code",
   "execution_count": 1,
   "metadata": {
    "collapsed": true
   },
   "outputs": [],
   "source": [
    "#import numpy for their array management, matplotlib for doing plots\n",
    "import numpy as np\n",
    "import matplotlib.pyplot as plt\n",
    "%matplotlib inline"
   ]
  },
  {
   "cell_type": "code",
   "execution_count": 2,
   "metadata": {
    "collapsed": true
   },
   "outputs": [],
   "source": [
    "#number of starting participants\n",
    "agent_count = 100\n",
    "#number of rounds we are going to attempt\n",
    "step_count = 1000000\n",
    "#easy to ask what happens with the money on every step, thus we start with empty lists\n",
    "agents = np.empty((step_count,agent_count))\n",
    "#fill the money that people have, in this case everyone has 500 tokens.\n",
    "agents[0,:] = agent_count*5 # should be agent_count or greater\n",
    "#repeat the process step_count times\n",
    "for i in range(1,step_count):\n",
    "    #we take a coin from every player\n",
    "    agents[i] = agents[i-1]-1\n",
    "    #stores either 1 or 0 depending on whether the player still has money\n",
    "    living = agents[i]>0\n",
    "    #counts (or not) those with money\n",
    "    living_count = np.sum(living)\n",
    "    #randomly selects winner of the round\n",
    "    winner = np.random.choice(np.arange(agent_count), p=(living/living_count))\n",
    "    #gives the money to the winner\n",
    "    agents[i,winner] += living_count\n",
    "    #brings to 0 if has no more money, or leaves as it is if still has money\n",
    "    agents[i] *= living"
   ]
  },
  {
   "cell_type": "markdown",
   "metadata": {},
   "source": [
    "Although unused in final paper, we were interested in knowing how the number of participants is reduced."
   ]
  },
  {
   "cell_type": "code",
   "execution_count": 3,
   "metadata": {},
   "outputs": [
    {
     "data": {
      "image/png": "[encoded data removed]",
      "text/plain": [
       "<matplotlib.figure.Figure at 0x196478c8048>"
      ]
     },
     "metadata": {},
     "output_type": "display_data"
    }
   ],
   "source": [
    "#plot the number of people per round that still had money\n",
    "plt.plot(np.sum(agents>0, axis=1))\n",
    "#fix the scales\n",
    "plt.ylim(ymin=0)\n",
    "#adds labels\n",
    "plt.ylabel(\"Number of players\")\n",
    "plt.xlabel(\"Number of generations\")\n",
    "#shows the newly created graph\n",
    "plt.show()"
   ]
  },
  {
   "cell_type": "code",
   "execution_count": 4,
   "metadata": {
    "collapsed": true
   },
   "outputs": [],
   "source": [
    "# edited from https://github.com/oliviaguest/gini/\n",
    "#to calculate gini index, we need an array containing the wealth of everyone in the system\n",
    "def gini(array):\n",
    "    #to prevent the values from being 0\n",
    "    array += 0.0000001\n",
    "    #the gini index requires the values to be in a non-decreasing order\n",
    "    array = np.sort(array)\n",
    "    #index per member of population also sorted\n",
    "    index = np.arange(1,array.shape[0]+1)\n",
    "    #number of elements in array\n",
    "    n = array.shape[0]\n",
    "    #applies formula of gini index.\n",
    "    return ((np.sum((2 * index - n  - 1) * array)) / (n * np.sum(array)))"
   ]
  },
  {
   "cell_type": "code",
   "execution_count": 5,
   "metadata": {},
   "outputs": [
    {
     "data": {
      "image/png": "[encoded data removed]",
      "text/plain": [
       "<matplotlib.figure.Figure at 0x1964796f240>"
      ]
     },
     "metadata": {},
     "output_type": "display_data"
    }
   ],
   "source": [
    "#plot the gini index of every generation (agents)\n",
    "plt.plot(list(map(gini,agents)))\n",
    "#fix the scale to be between 0 and 1 - the only possible values for gini index\n",
    "plt.ylim(0,1)\n",
    "#adds labels\n",
    "plt.ylabel(\"Gini coefficient\")\n",
    "plt.xlabel(\"Number of generations\")\n",
    "#shows graph\n",
    "plt.show()"
   ]
  }
 ],
 "metadata": {
  "kernelspec": {
   "display_name": "Python 3",
   "language": "python",
   "name": "python3"
  },
  "language_info": {
   "codemirror_mode": {
    "name": "ipython",
    "version": 3
   },
   "file_extension": ".py",
   "mimetype": "text/x-python",
   "name": "python",
   "nbconvert_exporter": "python",
   "pygments_lexer": "ipython3",
   "version": "3.6.3"
  }
 },
 "nbformat": 4,
 "nbformat_minor": 2
}
